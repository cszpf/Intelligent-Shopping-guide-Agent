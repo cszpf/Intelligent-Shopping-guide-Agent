{
 "cells": [
  {
   "cell_type": "code",
   "execution_count": 22,
   "metadata": {},
   "outputs": [],
   "source": [
    "import pandas as pd\n",
    "\n",
    "data = pd.read_csv('./computer_params_tags.csv')"
   ]
  },
  {
   "cell_type": "code",
   "execution_count": 23,
   "metadata": {},
   "outputs": [
    {
     "data": {
      "text/html": [
       "<div>\n",
       "<style scoped>\n",
       "    .dataframe tbody tr th:only-of-type {\n",
       "        vertical-align: middle;\n",
       "    }\n",
       "\n",
       "    .dataframe tbody tr th {\n",
       "        vertical-align: top;\n",
       "    }\n",
       "\n",
       "    .dataframe thead th {\n",
       "        text-align: right;\n",
       "    }\n",
       "</style>\n",
       "<table border=\"1\" class=\"dataframe\">\n",
       "  <thead>\n",
       "    <tr style=\"text-align: right;\">\n",
       "      <th></th>\n",
       "      <th>CPU主频</th>\n",
       "      <th>CPU型号</th>\n",
       "      <th>CPU系列</th>\n",
       "      <th>id</th>\n",
       "      <th>series_id</th>\n",
       "      <th>产品定位</th>\n",
       "      <th>产品类型</th>\n",
       "      <th>价格</th>\n",
       "      <th>内存容量</th>\n",
       "      <th>型号</th>\n",
       "      <th>...</th>\n",
       "      <th>屏幕尺寸</th>\n",
       "      <th>显卡类型</th>\n",
       "      <th>显卡芯片</th>\n",
       "      <th>显存容量</th>\n",
       "      <th>核心/线程数</th>\n",
       "      <th>硬盘容量</th>\n",
       "      <th>硬盘描述</th>\n",
       "      <th>gpu</th>\n",
       "      <th>cpu</th>\n",
       "      <th>tags</th>\n",
       "    </tr>\n",
       "  </thead>\n",
       "  <tbody>\n",
       "    <tr>\n",
       "      <th>0</th>\n",
       "      <td>1.6GHz</td>\n",
       "      <td>Intel 酷睿i5 8265U</td>\n",
       "      <td>英特尔 酷睿i5 8代系列</td>\n",
       "      <td>0</td>\n",
       "      <td>0</td>\n",
       "      <td>轻薄笔记本，影音娱乐本</td>\n",
       "      <td>家用</td>\n",
       "      <td>5499</td>\n",
       "      <td>8GB（8GB×1）</td>\n",
       "      <td>惠普星 14-CE2014TX（6QK61PA）</td>\n",
       "      <td>...</td>\n",
       "      <td>14英寸</td>\n",
       "      <td>性能级独立显卡</td>\n",
       "      <td>NVIDIA Geforce MX250</td>\n",
       "      <td>2GB</td>\n",
       "      <td>四核心/八线程</td>\n",
       "      <td>128GB+1TB</td>\n",
       "      <td>混合硬盘（SSD+5400转HDD）</td>\n",
       "      <td>NaN</td>\n",
       "      <td>i5 8265u</td>\n",
       "      <td>系统 运行 运转 流畅度 操作 上手 启动 开机速度 反应 响应 灵敏度 滑动 功能 稳定性...</td>\n",
       "    </tr>\n",
       "    <tr>\n",
       "      <th>1</th>\n",
       "      <td>1.8GHz</td>\n",
       "      <td>Intel 酷睿i7 8565U</td>\n",
       "      <td>英特尔 酷睿i7 8代系列</td>\n",
       "      <td>0</td>\n",
       "      <td>1</td>\n",
       "      <td>轻薄笔记本，影音娱乐本</td>\n",
       "      <td>家用</td>\n",
       "      <td>6299</td>\n",
       "      <td>8GB（8GB×1）</td>\n",
       "      <td>惠普星 14-CE2022TX（6QK62PA）</td>\n",
       "      <td>...</td>\n",
       "      <td>14英寸</td>\n",
       "      <td>性能级独立显卡</td>\n",
       "      <td>NVIDIA Geforce MX250</td>\n",
       "      <td>2GB</td>\n",
       "      <td>四核心/八线程</td>\n",
       "      <td>128GB+1TB</td>\n",
       "      <td>混合硬盘（SSD+5400转HDD）</td>\n",
       "      <td>NaN</td>\n",
       "      <td>i7 8565u</td>\n",
       "      <td>系统 运行 运转 流畅度 操作 上手 启动 开机速度 反应 响应 灵敏度 滑动 功能 稳定性...</td>\n",
       "    </tr>\n",
       "    <tr>\n",
       "      <th>2</th>\n",
       "      <td>1.8GHz</td>\n",
       "      <td>Intel 酷睿i7 8565U</td>\n",
       "      <td>英特尔 酷睿i7 8代系列</td>\n",
       "      <td>0</td>\n",
       "      <td>2</td>\n",
       "      <td>轻薄笔记本，影音娱乐本</td>\n",
       "      <td>家用</td>\n",
       "      <td>6299</td>\n",
       "      <td>8GB（8GB×1）</td>\n",
       "      <td>惠普星 14-CE2021TX（6QK54PA）</td>\n",
       "      <td>...</td>\n",
       "      <td>14英寸</td>\n",
       "      <td>性能级独立显卡</td>\n",
       "      <td>NVIDIA Geforce MX250</td>\n",
       "      <td>2GB</td>\n",
       "      <td>四核心/八线程</td>\n",
       "      <td>128GB+1TB</td>\n",
       "      <td>混合硬盘（SSD+5400转HDD）</td>\n",
       "      <td>NaN</td>\n",
       "      <td>i7 8565u</td>\n",
       "      <td>系统 运行 运转 流畅度 操作 上手 启动 开机速度 反应 响应 灵敏度 滑动 功能 稳定性...</td>\n",
       "    </tr>\n",
       "    <tr>\n",
       "      <th>3</th>\n",
       "      <td>1.8GHz</td>\n",
       "      <td>Intel 酷睿i7 8565U</td>\n",
       "      <td>英特尔 酷睿i7 8代系列</td>\n",
       "      <td>0</td>\n",
       "      <td>3</td>\n",
       "      <td>轻薄笔记本，影音娱乐本</td>\n",
       "      <td>家用</td>\n",
       "      <td>6299</td>\n",
       "      <td>8GB（8GB×1）</td>\n",
       "      <td>惠普星 14-CE2020TX（6QK76PA）</td>\n",
       "      <td>...</td>\n",
       "      <td>14英寸</td>\n",
       "      <td>性能级独立显卡</td>\n",
       "      <td>NVIDIA Geforce MX250</td>\n",
       "      <td>2GB</td>\n",
       "      <td>四核心/八线程</td>\n",
       "      <td>128GB+1TB</td>\n",
       "      <td>混合硬盘（SSD+5400转HDD）</td>\n",
       "      <td>NaN</td>\n",
       "      <td>i7 8565u</td>\n",
       "      <td>系统 运行 运转 流畅度 操作 上手 启动 开机速度 反应 响应 灵敏度 滑动 功能 稳定性...</td>\n",
       "    </tr>\n",
       "    <tr>\n",
       "      <th>4</th>\n",
       "      <td>1.6GHz</td>\n",
       "      <td>Intel 酷睿i5 8265U</td>\n",
       "      <td>英特尔 酷睿i5 8代系列</td>\n",
       "      <td>0</td>\n",
       "      <td>4</td>\n",
       "      <td>轻薄笔记本，影音娱乐本</td>\n",
       "      <td>家用</td>\n",
       "      <td>5499</td>\n",
       "      <td>8GB（8GB×1）</td>\n",
       "      <td>惠普星 14-CE2016TX（6QK72PA）</td>\n",
       "      <td>...</td>\n",
       "      <td>14英寸</td>\n",
       "      <td>性能级独立显卡</td>\n",
       "      <td>NVIDIA Geforce MX250</td>\n",
       "      <td>2GB</td>\n",
       "      <td>四核心/八线程</td>\n",
       "      <td>128GB+1TB</td>\n",
       "      <td>混合硬盘（SSD+5400转HDD）</td>\n",
       "      <td>NaN</td>\n",
       "      <td>i5 8265u</td>\n",
       "      <td>系统 运行 运转 流畅度 操作 上手 启动 开机速度 反应 响应 灵敏度 滑动 功能 稳定性...</td>\n",
       "    </tr>\n",
       "  </tbody>\n",
       "</table>\n",
       "<p>5 rows × 21 columns</p>\n",
       "</div>"
      ],
      "text/plain": [
       "    CPU主频             CPU型号          CPU系列  id  series_id         产品定位 产品类型  \\\n",
       "0  1.6GHz  Intel 酷睿i5 8265U  英特尔 酷睿i5 8代系列   0          0  轻薄笔记本，影音娱乐本   家用   \n",
       "1  1.8GHz  Intel 酷睿i7 8565U  英特尔 酷睿i7 8代系列   0          1  轻薄笔记本，影音娱乐本   家用   \n",
       "2  1.8GHz  Intel 酷睿i7 8565U  英特尔 酷睿i7 8代系列   0          2  轻薄笔记本，影音娱乐本   家用   \n",
       "3  1.8GHz  Intel 酷睿i7 8565U  英特尔 酷睿i7 8代系列   0          3  轻薄笔记本，影音娱乐本   家用   \n",
       "4  1.6GHz  Intel 酷睿i5 8265U  英特尔 酷睿i5 8代系列   0          4  轻薄笔记本，影音娱乐本   家用   \n",
       "\n",
       "     价格        内存容量                        型号  \\\n",
       "0  5499  8GB（8GB×1）  惠普星 14-CE2014TX（6QK61PA）   \n",
       "1  6299  8GB（8GB×1）  惠普星 14-CE2022TX（6QK62PA）   \n",
       "2  6299  8GB（8GB×1）  惠普星 14-CE2021TX（6QK54PA）   \n",
       "3  6299  8GB（8GB×1）  惠普星 14-CE2020TX（6QK76PA）   \n",
       "4  5499  8GB（8GB×1）  惠普星 14-CE2016TX（6QK72PA）   \n",
       "\n",
       "                         ...                          屏幕尺寸     显卡类型  \\\n",
       "0                        ...                          14英寸  性能级独立显卡   \n",
       "1                        ...                          14英寸  性能级独立显卡   \n",
       "2                        ...                          14英寸  性能级独立显卡   \n",
       "3                        ...                          14英寸  性能级独立显卡   \n",
       "4                        ...                          14英寸  性能级独立显卡   \n",
       "\n",
       "                   显卡芯片 显存容量   核心/线程数       硬盘容量                硬盘描述  gpu  \\\n",
       "0  NVIDIA Geforce MX250  2GB  四核心/八线程  128GB+1TB  混合硬盘（SSD+5400转HDD）  NaN   \n",
       "1  NVIDIA Geforce MX250  2GB  四核心/八线程  128GB+1TB  混合硬盘（SSD+5400转HDD）  NaN   \n",
       "2  NVIDIA Geforce MX250  2GB  四核心/八线程  128GB+1TB  混合硬盘（SSD+5400转HDD）  NaN   \n",
       "3  NVIDIA Geforce MX250  2GB  四核心/八线程  128GB+1TB  混合硬盘（SSD+5400转HDD）  NaN   \n",
       "4  NVIDIA Geforce MX250  2GB  四核心/八线程  128GB+1TB  混合硬盘（SSD+5400转HDD）  NaN   \n",
       "\n",
       "        cpu                                               tags  \n",
       "0  i5 8265u  系统 运行 运转 流畅度 操作 上手 启动 开机速度 反应 响应 灵敏度 滑动 功能 稳定性...  \n",
       "1  i7 8565u  系统 运行 运转 流畅度 操作 上手 启动 开机速度 反应 响应 灵敏度 滑动 功能 稳定性...  \n",
       "2  i7 8565u  系统 运行 运转 流畅度 操作 上手 启动 开机速度 反应 响应 灵敏度 滑动 功能 稳定性...  \n",
       "3  i7 8565u  系统 运行 运转 流畅度 操作 上手 启动 开机速度 反应 响应 灵敏度 滑动 功能 稳定性...  \n",
       "4  i5 8265u  系统 运行 运转 流畅度 操作 上手 启动 开机速度 反应 响应 灵敏度 滑动 功能 稳定性...  \n",
       "\n",
       "[5 rows x 21 columns]"
      ]
     },
     "execution_count": 23,
     "metadata": {},
     "output_type": "execute_result"
    }
   ],
   "source": [
    "data.head()"
   ]
  },
  {
   "cell_type": "code",
   "execution_count": 24,
   "metadata": {},
   "outputs": [
    {
     "name": "stdout",
     "output_type": "stream",
     "text": [
      "32338\n",
      "29610\n"
     ]
    }
   ],
   "source": [
    "def valid_price(s):\n",
    "    if type(s)==float and np.isnan(s):\n",
    "        return False\n",
    "    invalidSet = ['停产','概念','即将上市','报价','价格面议']\n",
    "    for word in invalidSet:\n",
    "        if word in s:\n",
    "            return False\n",
    "    return True\n",
    "\n",
    "def valid_name(s):\n",
    "    if type(s)==float and np.isnan(s):\n",
    "        return False\n",
    "    return True\n",
    "    \n",
    "print(len(data))\n",
    "clean_data = []\n",
    "for i in range(len(data)):\n",
    "    if valid_price(data.loc[i,'价格']) and valid_name(data.loc[i,'型号']):\n",
    "        clean_data.append(True)\n",
    "    else:\n",
    "        clean_data.append(False)\n",
    "data = data[clean_data]\n",
    "data.index = range(len(data))\n",
    "print(len(data))"
   ]
  },
  {
   "cell_type": "code",
   "execution_count": 25,
   "metadata": {},
   "outputs": [
    {
     "data": {
      "text/plain": [
       "Index(['CPU主频', 'CPU型号', 'CPU系列', 'id', 'series_id', '产品定位', '产品类型', '价格',\n",
       "       '内存容量', '型号', '屏幕分辨率', '屏幕尺寸', '显卡类型', '显卡芯片', '显存容量', '核心/线程数', '硬盘容量',\n",
       "       '硬盘描述', 'gpu', 'cpu', 'tags'],\n",
       "      dtype='object')"
      ]
     },
     "execution_count": 25,
     "metadata": {},
     "output_type": "execute_result"
    }
   ],
   "source": [
    "data.columns"
   ]
  },
  {
   "cell_type": "code",
   "execution_count": 26,
   "metadata": {},
   "outputs": [],
   "source": [
    "brand_list = '''\n",
    "惠普 戴尔 苹果 华硕 神舟 ThinkPad Acer 宏碁 机械革命 三星 雷神 Alienware 机械师 联想 华为 a豆 微软 小米 ROG MSI 微星 荣耀 \n",
    "炫龙 LG 麦本本 雷蛇 火影 Terrans Force 海尔 技嘉 中柏 VAIO 吾空 壹号本 清华同方 东芝 锡恩帝 松下 昂达 酷比魔方 富士通 \n",
    "宝扬 博本 谷歌 海鲅 索立信 ENZ 爱尔轩 紫麦 镭波 AVITA 金属大师 SOSOON 刀客 huawei razer 索尼 google 方正 台电 新蓝 gateway \n",
    "七喜 明基 长城 tcl dell mechrevo emachines 宏基 intel ibm 优派\n",
    "'''\n",
    "brand_list = brand_list.replace('\\n','').lower().split()"
   ]
  },
  {
   "cell_type": "code",
   "execution_count": 27,
   "metadata": {},
   "outputs": [
    {
     "name": "stdout",
     "output_type": "stream",
     "text": [
      "翼480-47cd i7-8550u/8g/256g/2g/win10/银-- 高分屏金属壳\n",
      "daoker k1\n",
      "asll ys-ww01\n",
      "ihinkpad r60(9460nr3)\n",
      "wbin iexpect2\n",
      "多彩xc11\n",
      "benq joybook t31-130\n",
      "七彩虹u16\n",
      "eser宇朔轻薄\n",
      "wbin magic\n",
      "wbin iexpect3\n",
      "七彩虹n520\n",
      "天玑p\n",
      "天玑k\n",
      "现代8200\n",
      "inetl cbb tw3a\n",
      "nec versa e6210\n",
      "万顺达14寸笔记本电脑\n",
      "夏新t30\n",
      "夏新t30\n",
      "29610\n"
     ]
    }
   ],
   "source": [
    "brand = []\n",
    "for i,name in enumerate(data['型号']):\n",
    "    if type(name) == float:\n",
    "        print(i)\n",
    "        brand.append(np.nan)\n",
    "        continue\n",
    "    found = False\n",
    "    name = name.lower()\n",
    "    for b in brand_list:\n",
    "        if b in name:\n",
    "            brand.append(b)\n",
    "            found = True\n",
    "            break\n",
    "    if not found:\n",
    "        print(name)\n",
    "        brand.append(\"未知\")\n",
    "brand = pd.Series(brand)\n",
    "print(len(brand))"
   ]
  },
  {
   "cell_type": "code",
   "execution_count": 28,
   "metadata": {},
   "outputs": [],
   "source": [
    "import re\n",
    "import numpy as np\n",
    "price_pattern = re.compile(r'(\\d+)\\.*(\\d*)万')\n",
    "price_pattern2 = re.compile(r'(\\d+)-*(\\d+)')\n",
    "def process_price(s):\n",
    "    try:\n",
    "        price = int(s)\n",
    "        return price\n",
    "    except ValueError:\n",
    "        match = re.search(price_pattern,s)\n",
    "        if match:\n",
    "            price = int(match.group(1))*10000\n",
    "            if match.group(2)!='':\n",
    "                price += float('0.'+match.group(2))*10000\n",
    "            return price\n",
    "        \n",
    "        match = re.search(price_pattern2,s)\n",
    "        if match:\n",
    "            price = int(match.group(1))\n",
    "            return price\n",
    "        \n",
    "        print(s)\n",
    "        return np.nan"
   ]
  },
  {
   "cell_type": "code",
   "execution_count": 29,
   "metadata": {},
   "outputs": [
    {
     "name": "stdout",
     "output_type": "stream",
     "text": [
      "29610\n"
     ]
    }
   ],
   "source": [
    "price = data['价格'].apply(process_price)\n",
    "print(len(price))"
   ]
  },
  {
   "cell_type": "code",
   "execution_count": 30,
   "metadata": {},
   "outputs": [
    {
     "name": "stdout",
     "output_type": "stream",
     "text": [
      "1.5GB\n",
      "1500.000\n",
      "1280.000\n",
      "1280.000\n",
      "1280.000\n",
      "1280.000\n",
      "1280.000\n",
      "29610\n"
     ]
    }
   ],
   "source": [
    "mem_pat = re.compile(r'(\\d+)G*B')\n",
    "mem_pat2 = re.compile(r'(\\d+)MB')\n",
    "def process_memory(s):\n",
    "    if type(s) == float:\n",
    "        return np.nan\n",
    "    match = re.match(mem_pat,s)\n",
    "    if match:\n",
    "        mem = int(match.group(1))\n",
    "        return mem\n",
    "    \n",
    "    match = re.match(mem_pat2,s)\n",
    "    if match:\n",
    "        mem = int(match.group(1))/1024\n",
    "        return mem\n",
    "    \n",
    "    print(s)\n",
    "    return np.nan\n",
    "\n",
    "memory = data['内存容量'].apply(process_memory)\n",
    "print(len(memory))"
   ]
  },
  {
   "cell_type": "code",
   "execution_count": 31,
   "metadata": {},
   "outputs": [
    {
     "name": "stdout",
     "output_type": "stream",
     "text": [
      "256B+1TB\n",
      "无机械硬盘，固态硬盘256GB SSD\n",
      "1TGB\n",
      "2×1TB+1TB\n",
      "500G\n",
      "256G\n",
      "2×1TB\n",
      "2×1TB\n",
      "29610\n"
     ]
    }
   ],
   "source": [
    "disk_pat = re.compile(r'(\\d+)GB')\n",
    "disk_pat2 = re.compile(r'(\\d+[\\.\\d]*)TB')\n",
    "disk_pat3 = re.compile(r'\\d+GB\\+(\\d+)GB')\n",
    "disk_pat4 = re.compile(r'(\\d+)×(\\d+)GB')\n",
    "\n",
    "def process_disk(s):\n",
    "    if type(s) == float:\n",
    "        return np.nan\n",
    "    try:\n",
    "        disk = float(s)\n",
    "        return disk\n",
    "    except ValueError:\n",
    "        pass\n",
    "    match = re.match(disk_pat,s)\n",
    "    if match:\n",
    "        disk = int(match.group(1))\n",
    "        return disk\n",
    "    \n",
    "    match = re.match(disk_pat2,s)\n",
    "    if match:\n",
    "        disk = float(match.group(1))*1024\n",
    "        return disk\n",
    "    \n",
    "    match = re.match(disk_pat3,s)\n",
    "    if match:\n",
    "        disk = int(match.group(2))\n",
    "        return disk\n",
    "    \n",
    "    match = re.match(disk_pat4,s)\n",
    "    if match:\n",
    "        disk = int(match.group(1))*int(match.group(2))\n",
    "        return disk\n",
    "    \n",
    "    print(s)\n",
    "    return np.nan\n",
    "\n",
    "disk = data['硬盘容量'].apply(process_disk)\n",
    "print(len(disk))"
   ]
  },
  {
   "cell_type": "code",
   "execution_count": 32,
   "metadata": {},
   "outputs": [
    {
     "name": "stdout",
     "output_type": "stream",
     "text": [
      "29610\n"
     ]
    }
   ],
   "source": [
    "cpu_name = data['CPU型号'].apply(lambda x:x.lower() if type(x)!=float else x)\n",
    "print(len(cpu_name))"
   ]
  },
  {
   "cell_type": "code",
   "execution_count": 33,
   "metadata": {},
   "outputs": [
    {
     "name": "stdout",
     "output_type": "stream",
     "text": [
      "29610\n"
     ]
    }
   ],
   "source": [
    "gpu_name = data['显卡芯片'].apply(lambda x:x.lower() if type(x)!=float else x)\n",
    "print(len(gpu_name))"
   ]
  },
  {
   "cell_type": "code",
   "execution_count": 34,
   "metadata": {},
   "outputs": [
    {
     "name": "stdout",
     "output_type": "stream",
     "text": [
      "29610\n"
     ]
    }
   ],
   "source": [
    "name = data['型号'].values\n",
    "print(len(name))"
   ]
  },
  {
   "cell_type": "code",
   "execution_count": 35,
   "metadata": {},
   "outputs": [],
   "source": [
    "cpu = data['cpu'].values\n",
    "gpu = data['gpu'].values\n",
    "tags = data['tags'].values"
   ]
  },
  {
   "cell_type": "code",
   "execution_count": 36,
   "metadata": {},
   "outputs": [
    {
     "name": "stdout",
     "output_type": "stream",
     "text": [
      "29610\n"
     ]
    }
   ],
   "source": [
    "sql_data = {'brand':brand,'name':name,'price':price,'memory':memory,'disk':disk,'cpu':cpu,'gpu':gpu,'cpu_name':cpu_name,'gpu_name':gpu_name,'tags':tags}\n",
    "sql_data = pd.DataFrame(sql_data)\n",
    "print(len(sql_data))"
   ]
  },
  {
   "cell_type": "code",
   "execution_count": 37,
   "metadata": {},
   "outputs": [],
   "source": [
    "from sqlalchemy import Column, String, create_engine\n",
    "from sqlalchemy.orm import sessionmaker\n",
    "\n",
    "#%%\n",
    "engine = create_engine('mysql+mysqlconnector://root@localhost:3306/dialog')\n",
    "#%%\n",
    "engine.execute('drop table if exists computer_param')\n",
    "sql_data.to_sql('computer_param',engine,if_exists = 'replace',chunksize=1000)"
   ]
  },
  {
   "cell_type": "code",
   "execution_count": null,
   "metadata": {},
   "outputs": [],
   "source": []
  }
 ],
 "metadata": {
  "kernelspec": {
   "display_name": "Python 3",
   "language": "python",
   "name": "python3"
  },
  "language_info": {
   "codemirror_mode": {
    "name": "ipython",
    "version": 3
   },
   "file_extension": ".py",
   "mimetype": "text/x-python",
   "name": "python",
   "nbconvert_exporter": "python",
   "pygments_lexer": "ipython3",
   "version": "3.7.1"
  }
 },
 "nbformat": 4,
 "nbformat_minor": 2
}
