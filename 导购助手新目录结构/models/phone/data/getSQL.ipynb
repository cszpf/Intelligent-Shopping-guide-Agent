{
 "cells": [
  {
   "cell_type": "code",
   "execution_count": 1,
   "metadata": {},
   "outputs": [],
   "source": [
    "import pandas as pd\n",
    "data = pd.read_csv('./phone_params_tags.csv')"
   ]
  },
  {
   "cell_type": "code",
   "execution_count": 2,
   "metadata": {},
   "outputs": [
    {
     "data": {
      "text/plain": [
       "Index(['CPU型号', 'CPU频率', 'GPU型号', 'RAM容量', 'ROM容量', 'id', '主屏分辨率', '主屏尺寸',\n",
       "       '价格', '前置摄像头', '后置摄像头', '型号', '摄像头总数', '核心数', '电池容量', 'tags', 'cpu'],\n",
       "      dtype='object')"
      ]
     },
     "execution_count": 2,
     "metadata": {},
     "output_type": "execute_result"
    }
   ],
   "source": [
    "data.columns"
   ]
  },
  {
   "cell_type": "code",
   "execution_count": 8,
   "metadata": {},
   "outputs": [],
   "source": [
    "import re\n",
    "import numpy as np"
   ]
  },
  {
   "cell_type": "code",
   "execution_count": 61,
   "metadata": {},
   "outputs": [],
   "source": [
    "rom_p = re.compile('(\\d+)[G|T]B')\n",
    "def extract_rom(s):\n",
    "    if type(s) == float:\n",
    "        return np.nan\n",
    "    match = re.match(rom_p,s)\n",
    "    if match:\n",
    "        return match.group(1)\n",
    "    else:\n",
    "        return np.nan\n",
    "\n",
    "roms = data['ROM容量'].apply(extract_rom)"
   ]
  },
  {
   "cell_type": "code",
   "execution_count": 62,
   "metadata": {},
   "outputs": [],
   "source": [
    "ram_p = re.compile('(\\d+)GB')\n",
    "def extract_ram(s):\n",
    "    if type(s) == float:\n",
    "        return np.nan\n",
    "    match = re.match(rom_p,s)\n",
    "    if match:\n",
    "        return match.group(1)\n",
    "    else:\n",
    "        return np.nan\n",
    "\n",
    "rams = data['RAM容量'].apply(extract_ram)"
   ]
  },
  {
   "cell_type": "code",
   "execution_count": 12,
   "metadata": {},
   "outputs": [],
   "source": [
    "def extract_price(s):\n",
    "    if type(s) == float:\n",
    "        return np.nan\n",
    "    try:\n",
    "        s = int(s)\n",
    "        return s\n",
    "    except ValueError:\n",
    "        return np.nan\n",
    "\n",
    "price = data['价格'].apply(extract_price)"
   ]
  },
  {
   "cell_type": "code",
   "execution_count": 28,
   "metadata": {},
   "outputs": [
    {
     "name": "stdout",
     "output_type": "stream",
     "text": [
      "1600高清级像素高像素自拍手机>\n",
      "800普通级像素高像素自拍手机>\n",
      "2400高清级像素高像素自拍手机>\n",
      "1600高清级像素高像素自拍手机>\n",
      "800普通级像素高像素自拍手机>\n",
      "1600高清级像素高像素自拍手机>\n",
      "800普通级像素高像素自拍手机>\n",
      "1600高清级像素高像素自拍手机>\n",
      "800普通级像素高像素自拍手机>\n",
      "500普通级像素高像素自拍手机>\n",
      "1300像素高清级像素高像素自拍手机>\n",
      "30普通级像素高清像素手机>\n",
      "30万万像素普通级像素高清像素手机>\n",
      "30万万像素普通级像素高清像素手机>\n"
     ]
    }
   ],
   "source": [
    "camera_p = re.compile(r'[\\dx]*[双|三|四]*\\d+万像素')\n",
    "def extract_camera(s):\n",
    "    if type(s) == float:\n",
    "        return np.nan\n",
    "    match = re.findall(camera_p,s)\n",
    "    if len(match) == 0:\n",
    "        print(s)\n",
    "        return np.nan\n",
    "    return '+'.join(match)\n",
    "\n",
    "camera_front = data['前置摄像头'].apply(extract_camera)\n",
    "camera_back = data['后置摄像头'].apply(extract_camera)"
   ]
  },
  {
   "cell_type": "code",
   "execution_count": 43,
   "metadata": {},
   "outputs": [],
   "source": [
    "num_p = re.compile(r'(\\d)x(\\d+)万像素')\n",
    "num_p2 = re.compile(r'(\\d+)万像素')\n",
    "def sum_camera(s):\n",
    "    if type(s) == float:\n",
    "        return np.nan\n",
    "    s = s.split('+')\n",
    "    total = 0\n",
    "    for pixel in s:\n",
    "        if 'x' in pixel:\n",
    "            match = re.search(num_p,pixel)\n",
    "            total += int(match.group(1)*int(match.group(1)))\n",
    "        elif '双' in s:\n",
    "            match = re.search(num_p2,pixel)\n",
    "            total += 2*int(match.group(1))\n",
    "        else:\n",
    "            match = re.search(num_p2,pixel)\n",
    "            total += int(match.group(1))\n",
    "    return total\n",
    "\n",
    "pixel_front = camera_front.apply(sum_camera)\n",
    "pixel_back = camera_back.apply(sum_camera)"
   ]
  },
  {
   "cell_type": "code",
   "execution_count": 50,
   "metadata": {},
   "outputs": [],
   "source": [
    "brand_list = '''\n",
    "OPPO vivo 华为 荣耀 三星 苹果 一加 努比亚 魅族 联想 金立 中兴 Moto 锤子科技 360 国美手机 小米 夏普 华硕 美图 诺基亚 HTC 8848\n",
    "SUGAR 黑莓 海信 AGM 黑鲨 索尼 谷歌 LG 酷派 VERTU 中国移动 飞利浦 联想 ZUK 小辣椒 TCL 天语 YotaPhone 长虹 MANNROG 微软\n",
    "格力 朵唯 纽曼 雷蛇 大神 传音 ivvi 海尔 酷比 索野 康佳 誉品 乐目 邦华 COMIO 青橙 创星 卡布奇诺 独影天幕 詹姆士 21克 汇威 百合\n",
    "波导 守护宝 ioutdoor 保千里 私人医生 阿尔卡特 朗界 E人E本 红鸟 sonim PPTV 尼凯恩 innos 云狐 新石器 柯达 会播 富可视 VEB\n",
    "铂爵 青想 米蓝 传奇 途为 imoo 神舟 BDV TP-LINK 易百年 小格雷 首云 克里特 先锋 图灵 小宇宙 泛泰 大唐 电信 雅马亚虎 VANO VAIO\n",
    "松下 东芝 惠普 全普 奥克斯 欧恩\n",
    "'''\n",
    "brand_list = brand_list.split()\n",
    "brand_list = [brand.strip() for brand in brand_list]\n",
    "brand_list = [brand for brand in brand_list if brand]"
   ]
  },
  {
   "cell_type": "code",
   "execution_count": 60,
   "metadata": {},
   "outputs": [],
   "source": [
    "def extract_brand(s):\n",
    "    if type(s) == float:\n",
    "        return np.nan\n",
    "    for brand in brand_list:\n",
    "        if brand in s:\n",
    "            return brand\n",
    "    return np.nan"
   ]
  },
  {
   "cell_type": "code",
   "execution_count": 54,
   "metadata": {},
   "outputs": [],
   "source": [
    "size_p = re.compile(r'(\\d\\.\\d+)英寸')\n",
    "def extract_size(s):\n",
    "    if type(s) == float:\n",
    "        return np.nan\n",
    "    match = re.match(size_p,s)\n",
    "    if match:\n",
    "        return float(match.group(1))\n",
    "    else:\n",
    "        return np.nan\n",
    "size = data['主屏尺寸'].apply(extract_size)"
   ]
  },
  {
   "cell_type": "code",
   "execution_count": 55,
   "metadata": {},
   "outputs": [
    {
     "data": {
      "text/plain": [
       "Index(['CPU型号', 'CPU频率', 'GPU型号', 'RAM容量', 'ROM容量', 'id', '主屏分辨率', '主屏尺寸',\n",
       "       '价格', '前置摄像头', '后置摄像头', '型号', '摄像头总数', '核心数', '电池容量', 'tags', 'cpu'],\n",
       "      dtype='object')"
      ]
     },
     "execution_count": 55,
     "metadata": {},
     "output_type": "execute_result"
    }
   ],
   "source": [
    "data.columns"
   ]
  },
  {
   "cell_type": "code",
   "execution_count": 63,
   "metadata": {},
   "outputs": [],
   "source": [
    "sql_data = {'cpu':data['cpu'],'memory':rams,'disk':roms,'id':data['id'],'size':size,'price':price,'camera_front':camera_front,\n",
    "           'camera_back':camera_back,'name':data['型号'],'brand':brand,'tags':data['tags'],\n",
    "           'pixel_front':pixel_front,'pixel_back':pixel_back}\n",
    "sql_data = pd.DataFrame(sql_data)"
   ]
  },
  {
   "cell_type": "code",
   "execution_count": 64,
   "metadata": {},
   "outputs": [],
   "source": [
    "from sqlalchemy import Column, String, create_engine\n",
    "from sqlalchemy.orm import sessionmaker\n",
    "\n",
    "#%%\n",
    "engine = create_engine('mysql+mysqlconnector://root@localhost:3306/dialog')\n",
    "#%%\n",
    "engine.execute('drop table if exists phone_param')\n",
    "sql_data.to_sql('phone_param',engine,if_exists = 'replace',chunksize=1000)"
   ]
  },
  {
   "cell_type": "code",
   "execution_count": null,
   "metadata": {},
   "outputs": [],
   "source": []
  }
 ],
 "metadata": {
  "kernelspec": {
   "display_name": "Python 3",
   "language": "python",
   "name": "python3"
  },
  "language_info": {
   "codemirror_mode": {
    "name": "ipython",
    "version": 3
   },
   "file_extension": ".py",
   "mimetype": "text/x-python",
   "name": "python",
   "nbconvert_exporter": "python",
   "pygments_lexer": "ipython3",
   "version": "3.7.1"
  }
 },
 "nbformat": 4,
 "nbformat_minor": 2
}
